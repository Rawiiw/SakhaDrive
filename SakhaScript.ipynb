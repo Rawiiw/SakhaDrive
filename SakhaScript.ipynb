{
 "cells": [
  {
   "cell_type": "code",
   "execution_count": null,
   "id": "ad62a3c8-05f9-4236-bc41-4713644103b1",
   "metadata": {},
   "outputs": [],
   "source": [
    "import os\n",
    "from pydrive.auth import GoogleAuth\n",
    "from pydrive.drive import GoogleDrive\n",
    "\n",
    "gauth = GoogleAuth()\n",
    "drive = GoogleDrive(gauth)\n",
    "\n",
    "folder_id = '1Sj_Rn1c8anfaI22RB3vnjOlQa7k5Ncas'\n",
    "destination_path = '/home/test-user/mnt'\n",
    "\n",
    "if not os.path.isdir(destination_path):\n",
    "    print(\"Указанный путь к серверу не существует.\")\n",
    "    exit()\n",
    "\n",
    "folder = drive.CreateFile({'id': folder_id})\n",
    "folder.GetContentFile(os.devnull)\n",
    "\n",
    "if not os.path.exists(os.devnull):\n",
    "    print(\"Нет доступа к папке Sakha на Google Drive.\")\n",
    "    exit()\n",
    "\n",
    "file_list = drive.ListFile({'q': f\"'{folder_id}' in parents and trashed=false\"}).GetList()\n",
    "success = False\n",
    "\n",
    "for file in file_list:\n",
    "    if file['mimeType'] == 'application/vnd.google-apps.folder':\n",
    "        folder_path = os.path.join(destination_path, file['title'])\n",
    "        os.makedirs(folder_path)\n",
    "        subfile_list = drive.ListFile({'q': f\"'{file['id']}' in parents and trashed=false\"}).GetList()\n",
    "        for subfile in subfile_list:\n",
    "            if subfile['title'].endswith(('.gif', '.tiff', '.geotiff', '.kml', '.mp4')):\n",
    "                download_path = os.path.join(folder_path, subfile['title'])\n",
    "                subfile.GetContentFile(download_path)\n",
    "                success = True   \n",
    "    elif file['title'].endswith(('.gif', '.tiff', '.geotiff', '.kml', '.mp4')):\n",
    "        download_path = os.path.join(destination_path, file['title'])\n",
    "        file.GetContentFile(download_path)\n",
    "        success = True\n",
    "\n",
    "if success:\n",
    "    print(\"Файлы успешно загружены на сервер\")\n",
    "else:\n",
    "    print(\"Нет файлов для загрузки\")\n",
    "\n"
   ]
  },
  {
   "cell_type": "code",
   "execution_count": null,
   "id": "692c39c4-af66-4c7e-9d32-efcbc9f4dab8",
   "metadata": {},
   "outputs": [],
   "source": []
  },
  {
   "cell_type": "code",
   "execution_count": null,
   "id": "27bea3dc-68b2-47b3-9848-1e3f43fe6940",
   "metadata": {},
   "outputs": [],
   "source": []
  },
  {
   "cell_type": "code",
   "execution_count": null,
   "id": "818b09e1-d632-4927-818b-208df2fd4e87",
   "metadata": {},
   "outputs": [],
   "source": []
  }
 ],
 "metadata": {
  "kernelspec": {
   "display_name": "Python 3 (ipykernel)",
   "language": "python",
   "name": "python3"
  },
  "language_info": {
   "codemirror_mode": {
    "name": "ipython",
    "version": 3
   },
   "file_extension": ".py",
   "mimetype": "text/x-python",
   "name": "python",
   "nbconvert_exporter": "python",
   "pygments_lexer": "ipython3",
   "version": "3.10.9"
  }
 },
 "nbformat": 4,
 "nbformat_minor": 5
}
